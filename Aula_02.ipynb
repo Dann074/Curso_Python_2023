{
  "nbformat": 4,
  "nbformat_minor": 0,
  "metadata": {
    "colab": {
      "provenance": [],
      "include_colab_link": true
    },
    "kernelspec": {
      "name": "python3",
      "display_name": "Python 3"
    },
    "language_info": {
      "name": "python"
    }
  },
  "cells": [
    {
      "cell_type": "markdown",
      "metadata": {
        "id": "view-in-github",
        "colab_type": "text"
      },
      "source": [
        "<a href=\"https://colab.research.google.com/github/Dann074/Curso_Python_2023/blob/main/Aula_02.ipynb\" target=\"_parent\"><img src=\"https://colab.research.google.com/assets/colab-badge.svg\" alt=\"Open In Colab\"/></a>"
      ]
    },
    {
      "cell_type": "markdown",
      "source": [
        "#SEGUNDA AULA DE PYTHON"
      ],
      "metadata": {
        "id": "G7CGKoIoKkK_"
      }
    },
    {
      "cell_type": "markdown",
      "source": [
        "##1 - Operadores Lógicos\n",
        "Diferente dos operadores aritméticos, os operadores lógicos retornam **True** 😀 ou **False** 😠 como resposta."
      ],
      "metadata": {
        "id": "R-eRS5qETtM0"
      }
    },
    {
      "cell_type": "markdown",
      "source": [
        "###Operadores Relacionais\n",
        "São aqueles que fazem a comparação entre dois ou mais valores. "
      ],
      "metadata": {
        "id": "Ush1OEj-GVx1"
      }
    },
    {
      "cell_type": "markdown",
      "source": [
        "####1. Operador de igualdade (==)\n"
      ],
      "metadata": {
        "id": "CBUQYbpUKspn"
      }
    },
    {
      "cell_type": "code",
      "execution_count": null,
      "metadata": {
        "id": "UpXYQhrjFFoi",
        "colab": {
          "base_uri": "https://localhost:8080/"
        },
        "outputId": "7c7d3c75-c071-4f13-fec1-c18fb50d1203"
      },
      "outputs": [
        {
          "output_type": "execute_result",
          "data": {
            "text/plain": [
              "False"
            ]
          },
          "metadata": {},
          "execution_count": 1
        }
      ],
      "source": [
        "# Colocar 7 == 7, verificar a resposta na execussão do programa;\n",
        "7 == 7\n",
        "# Colocar 7 == 5, verificar a resposta na execussão do programa;\n",
        "7 == 5"
      ]
    },
    {
      "cell_type": "markdown",
      "source": [
        "####2. Operadores menor que (<) e maior que (>)\n"
      ],
      "metadata": {
        "id": "xWIysM8vK5P4"
      }
    },
    {
      "cell_type": "code",
      "source": [
        "# Colocar 7 < 7, verificar a resposta na execussão do programa;\n",
        "7 < 7\n",
        "# Colocar 7 < 10, verificar a resposta na execussão do programa;\n",
        "7 < 10\n",
        "# Colocar 7 > 7, verificar a resposta na execussão do programa;\n",
        "7 > 7\n",
        "# Colocar 7 > 5, verificar a resposta na execussão do programa;\n",
        "7 > 5"
      ],
      "metadata": {
        "id": "bQ7S58PvK5Z7",
        "colab": {
          "base_uri": "https://localhost:8080/"
        },
        "outputId": "7878d23c-57ab-48e6-d9d3-f25264449d1c"
      },
      "execution_count": null,
      "outputs": [
        {
          "output_type": "execute_result",
          "data": {
            "text/plain": [
              "True"
            ]
          },
          "metadata": {},
          "execution_count": 7
        }
      ]
    },
    {
      "cell_type": "markdown",
      "source": [
        "####3. Operadores menor ou igual que (<) e maior ou igual que (>)"
      ],
      "metadata": {
        "id": "wylhZANYFaju"
      }
    },
    {
      "cell_type": "code",
      "source": [
        "# Colocar 7 <= 7, verificar a resposta na execussão do programa;\n",
        "7 <= 7\n",
        "# Colocar 7 <= 10, verificar a resposta na execussão do programa;\n",
        "7 <= 10\n",
        "# Colocar 7 >= 7, verificar a resposta na execussão do programa;\n",
        "7 >= 7\n",
        "# Colocar 7 >= 5, verificar a resposta na execussão do programa;\n",
        "7 >= 5"
      ],
      "metadata": {
        "id": "xlecvLJuFhPP",
        "colab": {
          "base_uri": "https://localhost:8080/"
        },
        "outputId": "89002e48-f788-4149-b965-3ee76b65ff3e"
      },
      "execution_count": null,
      "outputs": [
        {
          "output_type": "execute_result",
          "data": {
            "text/plain": [
              "True"
            ]
          },
          "metadata": {},
          "execution_count": 12
        }
      ]
    },
    {
      "cell_type": "markdown",
      "source": [
        "####4. Operador de diferente (!=)"
      ],
      "metadata": {
        "id": "SyHAHxHFFqF_"
      }
    },
    {
      "cell_type": "code",
      "source": [
        "# Colocar 7 != 7, verificar a resposta na execussão do programa;\n",
        "7 != 7\n",
        "# Colocar 7 != 5, verificar a resposta na execussão do programa;\n",
        "7 != 5"
      ],
      "metadata": {
        "id": "LQpY9SAsFw3S",
        "colab": {
          "base_uri": "https://localhost:8080/"
        },
        "outputId": "c8d44a17-f375-4663-c67e-2af91994f152"
      },
      "execution_count": null,
      "outputs": [
        {
          "output_type": "execute_result",
          "data": {
            "text/plain": [
              "True"
            ]
          },
          "metadata": {},
          "execution_count": 14
        }
      ]
    },
    {
      "cell_type": "markdown",
      "source": [
        "##2 - Tabelas Verdade\n",
        "São tabelas que mostram algumas situações de entrada e suas saídas"
      ],
      "metadata": {
        "id": "_VQpZnb4NJy_"
      }
    },
    {
      "cell_type": "markdown",
      "source": [
        "####1. Tabela do E (AND)\n",
        "O operador **AND** deve ser usado quando temos 2 ou mais condições que devem ser verdadeiras para o programa executar a ação desejada\n"
      ],
      "metadata": {
        "id": "jr4afUM0NTqx"
      }
    },
    {
      "cell_type": "code",
      "source": [
        "print(\"|   A\\t|   B\\t| SAÍDA |\")\n",
        "print(\"|\",False,\"|\",False,\"|\",False and False,\"|\")\n",
        "print(\"|\",True,\"\\t|\",False,\"|\",True and False,\"|\")\n",
        "print(\"|\",False,\"|\",True,\"\\t|\",False and True,\"|\")\n",
        "print(\"|\",True,\"\\t|\",True,\"\\t|\",True and True,\"\\t|\")"
      ],
      "metadata": {
        "id": "VCCBr3Z3Lec1",
        "colab": {
          "base_uri": "https://localhost:8080/"
        },
        "outputId": "bf58fb68-b1a5-4133-b7c7-923d85d20cef"
      },
      "execution_count": null,
      "outputs": [
        {
          "output_type": "stream",
          "name": "stdout",
          "text": [
            "|   A\t|   B\t| SAÍDA |\n",
            "| False | False | False |\n",
            "| True \t| False | False |\n",
            "| False | True \t| False |\n",
            "| True \t| True \t| True \t|\n"
          ]
        }
      ]
    },
    {
      "cell_type": "code",
      "source": [
        "# EXEMPLO: Verificar se uma idade é maior do que a 17 E menor do que 71.\n",
        "\n",
        "idade = int(input(\"Idade: \"))\n",
        "print(idade > 17 and idade < 71)"
      ],
      "metadata": {
        "id": "eBgJPQ6LJ3Nu",
        "colab": {
          "base_uri": "https://localhost:8080/"
        },
        "outputId": "3592b6d3-3025-4c61-d268-037f3bea8e00"
      },
      "execution_count": null,
      "outputs": [
        {
          "output_type": "stream",
          "name": "stdout",
          "text": [
            "Idade: 79\n",
            "False\n"
          ]
        }
      ]
    },
    {
      "cell_type": "markdown",
      "source": [
        "####2. Tabela do OU (OR)\n",
        "O operador **OR** deve ser usado quando, pelo menos, 1 das condições for verdadeira para realizar uma ação desejada"
      ],
      "metadata": {
        "id": "NOctwMQBQNEY"
      }
    },
    {
      "cell_type": "code",
      "source": [
        "print(\"|   A\\t|   B\\t| SAÍDA |\")\n",
        "print(\"|\",False,\"|\",False,\"|\",False or False,\"|\")\n",
        "print(\"|\",True,\"\\t|\",False,\"|\",True or False,\" |\")\n",
        "print(\"|\",False,\"|\",True,\"\\t|\",False or True,\" |\")\n",
        "print(\"|\",True,\"\\t|\",True,\"\\t|\",True or True,\" |\")"
      ],
      "metadata": {
        "id": "5588ahBYMKx4",
        "colab": {
          "base_uri": "https://localhost:8080/"
        },
        "outputId": "636020aa-3759-415f-b0d8-e72f62ba8e02"
      },
      "execution_count": null,
      "outputs": [
        {
          "output_type": "stream",
          "name": "stdout",
          "text": [
            "|   A\t|   B\t| SAÍDA |\n",
            "| False | False | False |\n",
            "| True \t| False | True  |\n",
            "| False | True \t| True  |\n",
            "| True \t| True \t| True  |\n"
          ]
        }
      ]
    },
    {
      "cell_type": "code",
      "source": [
        "# EXEMPLO: Verificar se uma idade é menor do que a 18 OU maior do que 70.\n",
        "\n",
        "idade = int(input(\"Idade: \"))\n",
        "print(idade < 18 or idade > 70)"
      ],
      "metadata": {
        "id": "FUJN71L_KQUy",
        "colab": {
          "base_uri": "https://localhost:8080/"
        },
        "outputId": "d6ac6e37-6e6b-41c7-890d-809ec81bcca3"
      },
      "execution_count": null,
      "outputs": [
        {
          "output_type": "stream",
          "name": "stdout",
          "text": [
            "Idade: 71\n",
            "True\n"
          ]
        }
      ]
    },
    {
      "cell_type": "markdown",
      "source": [
        "####3. Tabela do XOR (^)"
      ],
      "metadata": {
        "id": "d6BwgLnYRUA7"
      }
    },
    {
      "cell_type": "code",
      "source": [
        "print(\"|   A\\t|   B\\t| SAÍDA |\")\n",
        "print(\"|\",False,\"|\",False,\"|\",False ^ False,\"|\")\n",
        "print(\"|\",True,\"\\t|\",False,\"|\",True ^ False,\"\\t|\")\n",
        "print(\"|\",False,\"|\",True,\"\\t|\",False ^ True,\"\\t|\")\n",
        "print(\"|\",True,\"\\t|\",True,\"\\t|\",True ^ True,\"|\")\n"
      ],
      "metadata": {
        "id": "hmfvJ7WARjB2",
        "colab": {
          "base_uri": "https://localhost:8080/"
        },
        "outputId": "3683432e-f557-4b8a-f4ba-685d4bd4124a"
      },
      "execution_count": null,
      "outputs": [
        {
          "output_type": "stream",
          "name": "stdout",
          "text": [
            "|   A\t|   B\t| SAÍDA |\n",
            "| False | False | False |\n",
            "| True \t| False | True \t|\n",
            "| False | True \t| True \t|\n",
            "| True \t| True \t| False |\n"
          ]
        }
      ]
    },
    {
      "cell_type": "code",
      "source": [
        "# Reprodução de porcos\n",
        "# Coloque 0 para leitão e 1 para leitoa em uma lista\n",
        "leitao = 0\n",
        "leitoa = 1\n",
        "print(\"{} com {} é {}\" .format(leitao, leitao, leitao^leitao))\n",
        "print(\"{} com {} é {}\" .format(leitao, leitoa, leitao^leitoa))\n",
        "print(\"{} com {} é {}\" .format(leitoa, leitao, leitoa^leitao))\n",
        "print(\"{} com {} é {}\" .format(leitoa, leitoa, leitoa^leitoa))"
      ],
      "metadata": {
        "id": "F9X27vYCZLvX",
        "colab": {
          "base_uri": "https://localhost:8080/"
        },
        "outputId": "1b097a08-e3c9-44a9-cf67-eafe49f7e6ca"
      },
      "execution_count": null,
      "outputs": [
        {
          "output_type": "stream",
          "name": "stdout",
          "text": [
            "0 com 0 é 0\n",
            "0 com 1 é 1\n",
            "1 com 0 é 1\n",
            "1 com 1 é 0\n"
          ]
        }
      ]
    },
    {
      "cell_type": "markdown",
      "source": [
        "####4. Tabela de Negação (not)"
      ],
      "metadata": {
        "id": "kFp7D9FTSb1f"
      }
    },
    {
      "cell_type": "code",
      "source": [
        "print(\"|   A\\t| Não A |\")\n",
        "print(\"|\",False,\"|\",not False,\"\\t|\")\n",
        "print(\"|\",True,\"\\t|\",not True,\"|\")"
      ],
      "metadata": {
        "id": "sUqxxe31ScVX",
        "colab": {
          "base_uri": "https://localhost:8080/"
        },
        "outputId": "dbf8d7a2-a2f3-4c2b-c4f1-3622924fdf3b"
      },
      "execution_count": null,
      "outputs": [
        {
          "output_type": "stream",
          "name": "stdout",
          "text": [
            "|   A\t| Não A |\n",
            "| False | True \t|\n",
            "| True \t| False |\n"
          ]
        }
      ]
    },
    {
      "cell_type": "markdown",
      "source": [
        "##3 - Condicionais"
      ],
      "metadata": {
        "id": "t48ssv1ES12k"
      }
    },
    {
      "cell_type": "markdown",
      "source": [
        "#### Condição SE (IF)\n",
        "Usamos este tipo de condicional quando necessitamos que o programa teste algumas condições. Caso a condição seja verdadeira, o programa executará uma ação destinada àquela condição.\n",
        "\n",
        "```\n",
        "if condição 1:\n",
        "    bloco de códigos do if\n",
        "\n",
        "```\n",
        "Faz-se necessário que o código tenha esta estrutura, senão o Python apresentará erro de identação."
      ],
      "metadata": {
        "id": "sc0x1OLIblpK"
      }
    },
    {
      "cell_type": "code",
      "source": [
        "n = 3\n",
        "if n == 2:\n",
        "    print(\"{} igual a 2\".format(n))\n"
      ],
      "metadata": {
        "id": "F2gQQ0NzS7Xk"
      },
      "execution_count": null,
      "outputs": []
    },
    {
      "cell_type": "markdown",
      "source": [
        "#### Condição SENÃO (ELSE)\n",
        "Para usar o else, temos que ter usado o if antes.\n",
        "```\n",
        "if condição 1:\n",
        "    bloco de códigos do if\n",
        "    \n",
        "else:\n",
        "    bloco de código do else.\n",
        "    Aqui finaliza a condicional\n",
        "```"
      ],
      "metadata": {
        "id": "DsvIHQK0UDSU"
      }
    },
    {
      "cell_type": "code",
      "source": [
        "n = 3\n",
        "if n == 2:\n",
        "    print(\"{} igual a 2\".format(n))\n",
        "else:\n",
        "    print(\"{} diferente a 2\".format(n))"
      ],
      "metadata": {
        "id": "lYlvUcNZUFEE",
        "colab": {
          "base_uri": "https://localhost:8080/"
        },
        "outputId": "37a6021f-5ed5-4ce1-db06-e7cf67fddbd4"
      },
      "execution_count": null,
      "outputs": [
        {
          "output_type": "stream",
          "name": "stdout",
          "text": [
            "3 diferente a 2\n"
          ]
        }
      ]
    },
    {
      "cell_type": "markdown",
      "source": [
        "#### Condição SENÃO SE (ELIF)\n",
        "O elif deve ser utilizado quando temos mais do que uma condição.\n",
        "\n",
        "\n",
        "```\n",
        "if condição 1:\n",
        "    bloco de códigos do if\n",
        "\n",
        "elif condição 2:\n",
        "    bloco de código do elif\n",
        "    \n",
        "else:\n",
        "    bloco de código do else.\n",
        "    Aqui finaliza a condicional\n",
        "```\n",
        "\n"
      ],
      "metadata": {
        "id": "qfeEXqNGUe1m"
      }
    },
    {
      "cell_type": "code",
      "source": [
        "n = 5\n",
        "if n == 5:\n",
        "  print(\"{} igual a 5\" .format(n))\n",
        "\n",
        "elif n == 5.5:\n",
        "    print(\"{} Número quebrado com valor acima de 5\".format(n))\n",
        "else:\n",
        "    print(\"{} diferente de cinco\".format(n))"
      ],
      "metadata": {
        "id": "vVRanrOAJv1S",
        "colab": {
          "base_uri": "https://localhost:8080/"
        },
        "outputId": "951ace10-443a-4ab8-aad1-b2692c0b5b26"
      },
      "execution_count": null,
      "outputs": [
        {
          "output_type": "stream",
          "name": "stdout",
          "text": [
            "5 igual a 5\n"
          ]
        }
      ]
    },
    {
      "cell_type": "markdown",
      "source": [
        "##4 - Exercícios"
      ],
      "metadata": {
        "id": "uD8VHCytkM8b"
      }
    },
    {
      "cell_type": "markdown",
      "source": [
        "###1 - Qual o maior.\n",
        "*Escreva um programa que recebe 2 valores e devolve o maior entre eles.*"
      ],
      "metadata": {
        "id": "13pbhHVMkRV6"
      }
    },
    {
      "cell_type": "code",
      "source": [
        "# Declaração da variável 1\n",
        "num1 = float(input(\"Please insert the first number: \"))\n",
        "# Declaração da variável 2\n",
        "num2 = float(input(\"Now, the seccond one: \"))\n",
        "# Imprimir na tela mensagem: \"O X é maior do que o Y\"\n",
        "if num1 > num2:\n",
        "  print(\"{} is higher than {}\".format(num1, num2))\n",
        "elif num1 < num2:\n",
        "  print(\"{} is higher than {}\".format(num2, num1))\n",
        "else:\n",
        "  print(\"The value is the same\")"
      ],
      "metadata": {
        "id": "-WWdWzpikPZA",
        "colab": {
          "base_uri": "https://localhost:8080/"
        },
        "outputId": "04cdac09-b780-43f7-c88c-d8e0a9cff4d7"
      },
      "execution_count": null,
      "outputs": [
        {
          "output_type": "stream",
          "name": "stdout",
          "text": [
            "Please insert the first number: 10\n",
            "Now, the seccond one: 10\n",
            "The value is the same\n"
          ]
        }
      ]
    },
    {
      "cell_type": "markdown",
      "source": [
        "### 2 - Calculadora de preço da laranja.\n",
        "*Cada laranja custa R\\$ 0,3. Mas quando compradas acima de uma dúzia, seu valor cai para R\\$ 0,25 cada*"
      ],
      "metadata": {
        "id": "CNg2PQVQk4CI"
      }
    },
    {
      "cell_type": "code",
      "source": [
        "# Declarar a entrada da quantidade de laranjas a ser comprada\n",
        "orange = int(input(\"How many oranges do you want? \"))\n",
        "finalPrice = 0\n",
        "# Declaração de if\n",
        "if orange <= 12:\n",
        "  price = 0.30\n",
        "  finalPrice = price * orange\n",
        "else:\n",
        "  price = 0.25\n",
        "  finalPrice = price * orange\n",
        "\n",
        "# Imprimir na tela a mensagem: \"x laranjas por Y reais totaliza: R$ Z\"\n",
        "print(\"{} oranges for {} reais, total is R${}\".format(orange, price, finalPrice))"
      ],
      "metadata": {
        "id": "uuURP0ThlMu9",
        "colab": {
          "base_uri": "https://localhost:8080/"
        },
        "outputId": "fdcf8dd7-d767-4433-e5b2-ab621641a5b9"
      },
      "execution_count": null,
      "outputs": [
        {
          "output_type": "stream",
          "name": "stdout",
          "text": [
            "How many oranges do you want? 13\n",
            "13 oranges for 0.25 reais, total is R$3.25\n"
          ]
        }
      ]
    },
    {
      "cell_type": "markdown",
      "source": [
        "###3 - Caluladora de Peso Ideal \n",
        "Fazer uma calculadora em que o usuário digita Altura em metros e Peso em quilos e se é do sexo biológico Masculino ou Feminino. O programa devolve ao usuário a informação qual seu peso ideal e quando precisa emagrecer para chegar lá. \n",
        "Ao final, o programa deve trazer uma frase motivadora para aqueles que estão acima do peso, frase parabenizando os que estão no peso ideal e uma outra frase de alerta aos que estão abaixo do peso.\n",
        "***Fórmulas***\n",
        "\n",
        "        >Masculino: (72.7 * Altura) - 50\n",
        "        >Feminino: (62.1 * Altura) - 44.7\n"
      ],
      "metadata": {
        "id": "9b10ty1Nl6Yh"
      }
    },
    {
      "cell_type": "code",
      "source": [
        "\n",
        "height = float(input(\"Please, insert your height in m: \"))\n",
        "weight = float(input(\"Please inform your weight: \"))\n",
        "gender = input(\"Are you a boy or a girl? 0 for boys and 1 for girls \")\n",
        "\n",
        "while gender not in [\"0\", \"1\", \"boy\", \"girl\", \"Boy\", \"Girl\"]:\n",
        "  print('Incorrect format')\n",
        "  gender = input(\"Are you a boy or a girl? 0 for boys and 1 for girls\")\n",
        "\n",
        "if gender in [\"boy\", \"Boy\", \"0\"]:\n",
        "  gender = 0\n",
        "else:\n",
        "  gender = 1\n",
        "\n",
        "if gender == 0:\n",
        "  weightI = (72.7 * height) - 58\n",
        "else:\n",
        "  weightI = (62.1 * height) - 44.7\n",
        "\n",
        "difWeight = weightI - weight\n",
        "\n",
        "if difWeight < 0:\n",
        "  print(f'Você está acima do peso, seu peso ideal seria {weightI: .2f}Kg e você tem {weight}Kg')\n",
        "elif difWeight > 0:\n",
        "  print(f'Você está abaixo do peso, seu peso ideal seria {weightI: .2f}Kg e você tem {weight}Kg')\n",
        "else:\n",
        "  print(f'Você está em seu peso ideal {weightI: .2f}Kg')"
      ],
      "metadata": {
        "id": "QuQ1WrpcnTVU",
        "colab": {
          "base_uri": "https://localhost:8080/"
        },
        "outputId": "25f8ea40-28ac-4747-d881-e131b5409558"
      },
      "execution_count": 1,
      "outputs": [
        {
          "output_type": "stream",
          "name": "stdout",
          "text": [
            "Please, insert your height in m: 1.75\n",
            "Please inform your weight: 90\n",
            "Are you a boy or a girl? 0 for boys and 1 for girls boy\n",
            "Você está acima do peso, seu peso ideal seria  69.23Kg e você tem 90.0Kg\n"
          ]
        }
      ]
    },
    {
      "cell_type": "markdown",
      "source": [
        "###4 - É triangulo ou Não é triângulo?\n",
        "Para determinar se 3 segmentos de reta formam um triângulo, podemos fazer a verificação se a soma dos dois menores segmentos é maior do que o segmento maior.\n",
        "\n",
        "---\n",
        "    Segmentos: 2, 3 e 4\n",
        "    Soma dos dois menores: 2 + 3 = 5\n",
        "    Verificação: 5 > 4\n",
        "    Conclusão:Estes segmentos formam um triângulo\n",
        "---"
      ],
      "metadata": {
        "id": "C2hwNQwSn5VO"
      }
    },
    {
      "cell_type": "code",
      "source": [
        "# Declaração do primeiro segmento\n",
        "seg1 = int(input(\"Please, inform the first segment \"))\n",
        "# Declaração do segundo segmento\n",
        "seg2 = int(input(\"Please, inform the seccond segment \"))\n",
        "# Declaração do terceiro segmento\n",
        "seg3 = int(input(\"Please, inform the third segment \"))\n",
        "# Neste if, usar AND para avaliaar se o 1º segmento é o menor\n",
        "\n",
        "# Neste elif, usar AND para avaliaar se o 2º segmento é o maior\n",
        "\n",
        "# Neste elif, usar AND para avaliar se o 3º segmento é o maior\n",
        "\n",
        "# Else para possíveis erros de digitação\n",
        "\n",
        "# Verificação se é triângulo e informar ao usuário."
      ],
      "metadata": {
        "id": "CSNpL6jToER_"
      },
      "execution_count": null,
      "outputs": []
    },
    {
      "cell_type": "markdown",
      "source": [
        "##Desafio\n",
        "Um posto de gasolina está vendendo combustíveis com a seguinte tabela de descontos:\n",
        "**Gasolina:**\n",
        ">Até 20 litros: desconto de 4% por litro<br>\n",
        ">Acima de 20 litros: desconto de 6% por litro<br>\n",
        "\n",
        "**Álcool:**\n",
        ">Até 20 litros: desconto de 3% por litro<br>\n",
        ">Acima de 20 litros: desconto de 5% por litro<br>\n",
        "\n",
        "Escreva um programa que leia o tipo de combustível (A - Álcool e G - Gasolina), calcule e imprima o valor a ser pago pelo cliente.\n",
        "\n",
        "---\n",
        "\n",
        "*PARA TORNAR O DESAFIO INTERESSANTE, VAMOS FAZER O PROGRAMA CRIAR UM NÚMERO ALEATÓRIO PARA O ABASTECIMENTO. ESTE NÚMERO DEVERÁ SER ENTRE 1 E 52*\n",
        "\n",
        "---"
      ],
      "metadata": {
        "id": "x3ptmqI_hhsE"
      }
    },
    {
      "cell_type": "code",
      "source": [
        "import random\n",
        "\n",
        "print(\"|            |  Quantidade  | Preço    | Desconto\")\n",
        "print(\"|  Gasolina  |   Até 20l    |  R$5,51  | 4%\")\n",
        "print(\"|  Gasolina  |   + de 20l   |  R$5,51  | 6%\")\n",
        "print(\"|   Alcool   |   Até 20l    |  R$2,81  | 3%\")\n",
        "print(\"|   Alcool   |   + de 20l   |  R$2,81  | 5%\")\n",
        "\n",
        "combustivel = input(\"Gasolina ou Alcool? \")\n",
        "n = None\n",
        "litros = random.randrange(1,52)\n",
        "alcool_price =  2.81\n",
        "gas_price = 5.51\n",
        "\n",
        "if combustivel in [\"Gasolina\", \"Gas\", \"gasolina\", \"gas\"]:\n",
        "  if litros <= 20:\n",
        "    discount = 0.04\n",
        "    price_without = litros * gas_price\n",
        "    final_price = price_without - (price_without * discount)\n",
        "  else:\n",
        "    discount = 0.06\n",
        "    price_without = litros * gas_price\n",
        "    final_price = price_without - (price_without * discount)\n",
        "elif combustivel in [\"Alcool\", \"Álcool\", \"Etanol\", \"alcool\", \"álocool\", \"etanol\"]:\n",
        "  if litros <= 20:\n",
        "    discount = 0.03\n",
        "    price_without = litros * alcool_price\n",
        "    final_price = price_without - (price_without * discount)\n",
        "  else:\n",
        "    discount = 0.05\n",
        "    price_without = litros * alcool_price\n",
        "    final_price = price_without - (price_without * discount)\n",
        "else:\n",
        "  print(\"Informe um combustível válido\")\n",
        "\n",
        "print(f\"{litros:.2f} litros de R${price_without:.2f} por R${final_price:.2f}\")"
      ],
      "metadata": {
        "id": "jWNQJFMmhmeX",
        "colab": {
          "base_uri": "https://localhost:8080/"
        },
        "outputId": "caa8fd4e-c957-4c42-8213-05901c19a0d8"
      },
      "execution_count": 58,
      "outputs": [
        {
          "output_type": "stream",
          "name": "stdout",
          "text": [
            "|            |  Quantidade  | Preço   | Desconto\n",
            "|  Gasolina  |   Até 20l    |  R$5,51  | 4%\n",
            "|  Gasolina  |   + de 20l   |  R$5,51  | 6%\n",
            "|   Alcool   |   Até 20l    |  R$2,81  | 3%\n",
            "|   Alcool   |   + de 20l   |  R$2,81  | 5%\n",
            "Gasolina ou Alcool? gas\n",
            "17.00 litros de R$93.67 por R$89.92\n"
          ]
        }
      ]
    },
    {
      "cell_type": "code",
      "source": [
        "#Código sem o random\n",
        "\n",
        "print(\"|            |  Quantidade  | Preço    | Desconto\")\n",
        "print(\"|  Gasolina  |   Até 20l    |  R$5,51  | 4%\")\n",
        "print(\"|  Gasolina  |   + de 20l   |  R$5,51  | 6%\")\n",
        "print(\"|   Alcool   |   Até 20l    |  R$2,81  | 3%\")\n",
        "print(\"|   Alcool   |   + de 20l   |  R$2,81  | 5%\")\n",
        "\n",
        "combustivel = input(\"Gasolina ou Alcool? \")\n",
        "litros = float(input(\"Quantos litros deseja? \"))\n",
        "alcool_price =  2.81\n",
        "gas_price = 5.51\n",
        "\n",
        "if combustivel in [\"Gasolina\", \"Gas\", \"gasolina\", \"gas\"]:\n",
        "  if litros <= 20:\n",
        "    discount = 0.04\n",
        "    price_without = litros * gas_price\n",
        "    final_price = price_without - (price_without * discount)\n",
        "    print(f\"{litros:.2f} litros de R${price_without:.2f} por R${final_price:.2f}\")\n",
        "  else:\n",
        "    discount = 0.06\n",
        "    price_without = litros * gas_price\n",
        "    final_price = price_without - (price_without * discount)\n",
        "    print(f\"{litros:.2f} litros de R${price_without:.2f} por R${final_price:.2f}\")\n",
        "elif combustivel in [\"Alcool\", \"Álcool\", \"Etanol\", \"alcool\", \"álocool\", \"etanol\"]:\n",
        "  if litros <= 20:\n",
        "    discount = 0.03\n",
        "    price_without = litros * alcool_price\n",
        "    final_price = price_without - (price_without * discount)\n",
        "    print(f\"{litros:.2f} litros de R${price_without:.2f} por R${final_price:.2f}\")\n",
        "  else:\n",
        "    discount = 0.05\n",
        "    price_without = litros * alcool_price\n",
        "    final_price = price_without - (price_without * discount)\n",
        "    print(f\"{litros:.2f} litros de R${price_without:.2f} por R${final_price:.2f}\")\n",
        "else:\n",
        "  print(\"Informe um combustível válido\")"
      ],
      "metadata": {
        "colab": {
          "base_uri": "https://localhost:8080/"
        },
        "id": "wVTONbEZbg1J",
        "outputId": "54b6a6d1-389e-42bf-d97c-86dcfc692133"
      },
      "execution_count": 60,
      "outputs": [
        {
          "output_type": "stream",
          "name": "stdout",
          "text": [
            "|            |  Quantidade  | Preço   | Desconto\n",
            "|  Gasolina  |   Até 20l    |  R$5,51  | 4%\n",
            "|  Gasolina  |   + de 20l   |  R$5,51  | 6%\n",
            "|   Alcool   |   Até 20l    |  R$2,81  | 3%\n",
            "|   Alcool   |   + de 20l   |  R$2,81  | 5%\n",
            "Gasolina ou Alcool? alcool\n",
            "Quantos litros deseja? 10\n",
            "10.00 litros de R$28.10 por R$27.26\n"
          ]
        }
      ]
    },
    {
      "cell_type": "code",
      "source": [
        "#Jeito masi dificil\n",
        "\n",
        "print(\"|            |  Quantidade  | Preço    | Desconto\")\n",
        "print(\"|  Gasolina  |   Até 20l    |  R$5,51  | 4%\")\n",
        "print(\"|  Gasolina  |   + de 20l   |  R$5,51  | 6%\")\n",
        "print(\"|   Alcool   |   Até 20l    |  R$2,81  | 3%\")\n",
        "print(\"|   Alcool   |   + de 20l   |  R$2,81  | 5%\")\n",
        "\n",
        "buy_type = input(\"Deseja comprar em Litros ou por preço?\")\n",
        "combustivel = input(\"Gasolina ou Alcool? \")\n",
        "alcool_price =  2.81\n",
        "gas_price = 5.51\n",
        "\n",
        "if buy_type in [\"Litros\", \"litros\", \"l\", \"litro\", \"Litro\"]:\n",
        "  litros = float(input(\"Quantos litros deseja? \"))\n",
        "  if combustivel in [\"Gasolina\", \"Gas\", \"gasolina\", \"gas\"]:\n",
        "    if litros <= 20:\n",
        "      discount = 0.04\n",
        "      price_without = litros * gas_price\n",
        "      final_price = price_without - (price_without * discount)\n",
        "      print(f\"{litros:.2f} litros de R${price_without:.2f} por R${final_price:.2f}\")\n",
        "    else:\n",
        "      discount = 0.06\n",
        "      price_without = litros * gas_price\n",
        "      final_price = price_without - (price_without * discount)\n",
        "      print(f\"{litros:.2f} litros de R${price_without:.2f} por R${final_price:.2f}\")\n",
        "  elif combustivel in [\"Alcool\", \"Álcool\", \"Etanol\", \"alcool\", \"álocool\", \"etanol\"]:\n",
        "    if litros <= 20:\n",
        "      discount = 0.03\n",
        "      price_without = litros * alcool_price\n",
        "      final_price = price_without - (price_without * discount)\n",
        "      print(f\"{litros:.2f} litros de R${price_without:.2f} por R${final_price:.2f}\")\n",
        "    else:\n",
        "      discount = 0.05\n",
        "      price_without = litros * alcool_price\n",
        "      final_price = price_without - (price_without * discount)\n",
        "    print(f\"{litros:.2f} litros de R${price_without:.2f} por R${final_price:.2f}\")\n",
        "  else:\n",
        "    print(\"Informe um combustível válido\")\n",
        "elif buy_type in [\"Preço\", \"preço\", \"valor\", \"Valor\"]:\n",
        "  wanted_price = float(input(\"Quantos R$ de combustivel deseja? \"))\n",
        "  if combustivel in [\"Gasolina\", \"Gas\", \"gasolina\", \"gas\"]:\n",
        "    litros = wanted_price / gas_price\n",
        "    if litros <= 20:\n",
        "      discount = 0.04\n",
        "      final_price = wanted_price - (wanted_price * discount)\n",
        "      print(f\"{litros:.2f} litros de R${wanted_price:.2f} por R${final_price:.2f}\")\n",
        "    else:\n",
        "      discount = 0.06\n",
        "      final_price = wanted_price - (wanted_price * discount)\n",
        "      print(f\"{litros:.2f} litros de R${wanted_price:.2f} por R${final_price:.2f}\")\n",
        "  elif combustivel in [\"Alcool\", \"Álcool\", \"Etanol\", \"alcool\", \"álcool\", \"etanol\"]:\n",
        "    litros = wanted_price / alcool_price\n",
        "    if litros <= 20:\n",
        "      discount = 0.03\n",
        "      final_price = wanted_price - (wanted_price * discount)\n",
        "      print(f\"{litros:.2f} litros de R${wanted_price:.2f} por R${final_price:.2f}\")\n",
        "    else:\n",
        "      discount = 0.05\n",
        "      final_price = wanted_price - (wanted_price * discount)\n",
        "      print(f\"{litros:.2f} litros de R${wanted_price:.2f} por R${final_price:.2f}\")\n",
        "  else:\n",
        "    print(\"Tipo Inválido\")\n",
        "else:\n",
        "  print(\"Valor inválido\")\n"
      ],
      "metadata": {
        "colab": {
          "base_uri": "https://localhost:8080/"
        },
        "id": "Zxzkdz-Qb_T_",
        "outputId": "1b0357a0-a4d9-469e-c476-b17c9ee3b77b"
      },
      "execution_count": 63,
      "outputs": [
        {
          "output_type": "stream",
          "name": "stdout",
          "text": [
            "|            |  Quantidade  | Preço    | Desconto\n",
            "|  Gasolina  |   Até 20l    |  R$5,51  | 4%\n",
            "|  Gasolina  |   + de 20l   |  R$5,51  | 6%\n",
            "|   Alcool   |   Até 20l    |  R$2,81  | 3%\n",
            "|   Alcool   |   + de 20l   |  R$2,81  | 5%\n",
            "Deseja comprar em Litros ou por preço?preço\n",
            "Gasolina ou Alcool? Alcool\n",
            "Quantos R$ de combustivel deseja? 100\n",
            "35.59 litros de R$100.00 por R$95.00\n"
          ]
        }
      ]
    }
  ]
}